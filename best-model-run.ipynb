{
 "cells": [
  {
   "cell_type": "markdown",
   "id": "60451073",
   "metadata": {},
   "source": [
    "### moduls install"
   ]
  },
  {
   "cell_type": "code",
   "execution_count": null,
   "id": "e3d425d7",
   "metadata": {},
   "outputs": [],
   "source": [
    "!pip install tensorflow==2.9.0\n",
    "!pip install \"numpy<2.0\"\n",
    "!pip install matplotlib seaborn scikit-learn opencv-python-headless"
   ]
  },
  {
   "cell_type": "markdown",
   "id": "d657cbb5",
   "metadata": {},
   "source": [
    "### import moduls"
   ]
  },
  {
   "cell_type": "code",
   "execution_count": null,
   "id": "e7ab7edb",
   "metadata": {},
   "outputs": [],
   "source": [
    "import os\n",
    "import json\n",
    "import numpy as np\n",
    "import tensorflow as tf\n",
    "from tensorflow.keras.models import model_from_json\n",
    "from tensorflow.keras.preprocessing import image\n",
    "import matplotlib.pyplot as plt"
   ]
  },
  {
   "cell_type": "markdown",
   "id": "e8c2d82d",
   "metadata": {},
   "source": [
    "### dir setting"
   ]
  },
  {
   "cell_type": "code",
   "execution_count": null,
   "id": "adbd4bec",
   "metadata": {},
   "outputs": [],
   "source": [
    "model_dir = 'best_model'\n",
    "structure_path = os.path.join(model_dir, 'model_structure.json')\n",
    "weights_path = os.path.join(model_dir, 'model_weights.h5')\n",
    "config_path = os.path.join(model_dir, 'config.json')"
   ]
  },
  {
   "cell_type": "markdown",
   "id": "88bcf80c",
   "metadata": {},
   "source": [
    "### model loading"
   ]
  },
  {
   "cell_type": "code",
   "execution_count": null,
   "id": "42a60839",
   "metadata": {},
   "outputs": [],
   "source": [
    "def load_model_with_config(structure_path, weights_path, config_path):\n",
    "    # structure\n",
    "    with open(structure_path, 'r') as f:\n",
    "        model = model_from_json(f.read())\n",
    "\n",
    "    # weights\n",
    "    model.load_weights(weights_path)\n",
    "\n",
    "    # setting info\n",
    "    with open(config_path, 'r') as f:\n",
    "        config = json.load(f)\n",
    "    print(\"📌 Loaded config:\", config)\n",
    "\n",
    "    # optimizer set\n",
    "    optimizer = tf.keras.optimizers.get({\n",
    "        'class_name': config.get('optimizer', 'Adam'),\n",
    "        'config': {'learning_rate': config.get('learning_rate', 0.001)}\n",
    "    })\n",
    "\n",
    "    # model compile\n",
    "    model.compile(\n",
    "        optimizer=optimizer,\n",
    "        loss=config.get('loss_function', 'categorical_crossentropy'),\n",
    "        metrics=config.get('metrics', ['accuracy'])\n",
    "    )\n",
    "    \n",
    "    return model, config\n"
   ]
  },
  {
   "cell_type": "markdown",
   "id": "1eb4002f",
   "metadata": {},
   "source": [
    "### input data"
   ]
  },
  {
   "cell_type": "code",
   "execution_count": null,
   "id": "4696ecea",
   "metadata": {},
   "outputs": [],
   "source": [
    "from tensorflow.keras.preprocessing.image import load_img, img_to_array\n",
    "import matplotlib.pyplot as plt\n",
    "import numpy as np"
   ]
  },
  {
   "cell_type": "code",
   "execution_count": null,
   "id": "e9047c2c",
   "metadata": {},
   "outputs": [],
   "source": [
    "img_path = 'test_images/sample.jpg'  # 여기에 새 이미지 경로\n",
    "img = load_img(img_path, target_size=(224, 224))  # 모델 입력 사이즈에 맞게 수정!\n",
    "plt.imshow(img)\n",
    "plt.axis('off')\n",
    "plt.show()"
   ]
  },
  {
   "cell_type": "code",
   "execution_count": null,
   "id": "805fb48b",
   "metadata": {},
   "outputs": [],
   "source": [
    "\n",
    "# 전처리 함수\n",
    "def preprocess_image(image_path, target_size=(224, 224)):\n",
    "    img = load_img(image_path, target_size=target_size)\n",
    "    img_array = img_to_array(img)\n",
    "    img_array = img_array / 255.0  # 학습할 때 rescale=1./255 했던 것과 동일하게 맞춤\n",
    "    img_array = np.expand_dims(img_array, axis=0)\n",
    "    return img_array"
   ]
  },
  {
   "cell_type": "markdown",
   "id": "26cf55ed",
   "metadata": {},
   "source": [
    "### run"
   ]
  },
  {
   "cell_type": "code",
   "execution_count": null,
   "id": "0657ee26",
   "metadata": {},
   "outputs": [],
   "source": [
    "import json\n",
    "import numpy as np\n",
    "import tensorflow as tf\n",
    "from tensorflow.keras.models import model_from_json\n",
    "from tensorflow.keras.preprocessing.image import load_img, img_to_array"
   ]
  },
  {
   "cell_type": "code",
   "execution_count": null,
   "id": "4ad733a5",
   "metadata": {},
   "outputs": [],
   "source": [
    "# path setting\n",
    "structure_path = 'best_model/model_structure.json'\n",
    "weights_path = 'best_model/model_weights.h5'\n",
    "config_path = 'best_model/config.json'\n",
    "class_names_path = 'best_model/class_names.json'\n",
    "\n",
    "# model, class loading\n",
    "model, config = load_model_with_config(structure_path, weights_path, config_path)\n",
    "\n",
    "with open(class_names_path, 'r') as f:\n",
    "    class_names = json.load(f)\n"
   ]
  },
  {
   "cell_type": "code",
   "execution_count": null,
   "id": "8d2f92c5",
   "metadata": {},
   "outputs": [],
   "source": [
    "# 후처리 함수\n",
    "def decode_prediction(pred, class_names):\n",
    "    class_index = np.argmax(pred, axis=1)[0]\n",
    "    confidence = np.max(pred)\n",
    "    return class_names[class_index], confidence\n",
    "\n",
    "# precition \n",
    "def predict_image(image_path, model, class_names):\n",
    "    img = preprocess_image(image_path)\n",
    "    pred = model.predict(img)\n",
    "    pred_class, confidence = decode_prediction(pred, class_names)\n",
    "    return pred_class, confidence"
   ]
  },
  {
   "cell_type": "code",
   "execution_count": null,
   "id": "18c97fa2",
   "metadata": {},
   "outputs": [],
   "source": [
    "# running model\n",
    "img_path = 'your_image.jpg'  # 예측할 이미지 경로\n",
    "pred_class, confidence = predict_image(img_path, model, class_names)\n",
    "\n",
    "print(f\"📌 예측 클래스: {pred_class} ({confidence * 100:.2f}%)\")"
   ]
  }
 ],
 "metadata": {
  "kernelspec": {
   "display_name": "base",
   "language": "python",
   "name": "python3"
  },
  "language_info": {
   "name": "python",
   "version": "3.9.12"
  }
 },
 "nbformat": 4,
 "nbformat_minor": 5
}
